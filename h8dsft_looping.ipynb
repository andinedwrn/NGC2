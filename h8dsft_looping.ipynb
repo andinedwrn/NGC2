{
  "nbformat": 4,
  "nbformat_minor": 0,
  "metadata": {
    "colab": {
      "provenance": []
    },
    "kernelspec": {
      "name": "python3",
      "display_name": "Python 3"
    },
    "language_info": {
      "name": "python"
    }
  },
  "cells": [
    {
      "cell_type": "markdown",
      "source": [
        "# **NGC 2 - CONDITIONING AND LOOPING **"
      ],
      "metadata": {
        "id": "pZTuW6PWa45_"
      }
    },
    {
      "cell_type": "markdown",
      "source": [
        "Buatlah sebuah list dengan value berupa :numbers=[951,402,\n",
        "\n",
        "- Buatlah sebuah list dengan value berupa \n",
        "  numbers= [951,402,984,651,360,69,408,319,601,485,980,507,725,547,544,615,83,165,141,501,263,617,865,575,219,390,984,592,236,105,942,941,386,462,47,418,907,344,236,375,823,566,597,978,328,615,953,345,399,162,758,219,918,237,412,566,826,248,866,950,626,949]\n",
        "\n",
        "- Loop dan print semua angka genap dari list angka\n",
        "- List item diatas dengan urutan yang sama\n",
        "- Jangan mencetak angka apapun yang muncul setelah angka 918 berdasarkan posisi angka tersebut pada list diatas List item\n",
        "- Tampilkan pesan ”Done” setelah looping berakhir.\n",
        "\n"
      ],
      "metadata": {
        "id": "0XbhYwvRbMy3"
      }
    },
    {
      "cell_type": "code",
      "source": [
        "numbers= [951, 402, 984, 651, 360, 69, 408, 319, 601, 485,980,507,725,547,544,615,83,165,141,501,263,617,865,575,219,390,984,592,236,105,942,941,386,462,47,418,907,344,236,375,823,566,597,978,328,615,953,345,399,162,758,219,918,237,412,566,826,248,866,950,626,949]\n",
        "\n",
        "for num in numbers:\n",
        "  if num % 2 == 0:\n",
        "    print(num)\n",
        "  if numbers == 918:\n",
        "    break\n",
        "print('done')\n"
      ],
      "metadata": {
        "colab": {
          "base_uri": "https://localhost:8080/"
        },
        "id": "Lzkqq7R1c4dl",
        "outputId": "db68d9fa-db9b-45be-ddec-9f60a83e1e19"
      },
      "execution_count": 12,
      "outputs": [
        {
          "output_type": "stream",
          "name": "stdout",
          "text": [
            "402\n",
            "984\n",
            "360\n",
            "408\n",
            "980\n",
            "544\n",
            "390\n",
            "984\n",
            "592\n",
            "236\n",
            "942\n",
            "386\n",
            "462\n",
            "418\n",
            "344\n",
            "236\n",
            "566\n",
            "978\n",
            "328\n",
            "162\n",
            "758\n",
            "918\n",
            "412\n",
            "566\n",
            "826\n",
            "248\n",
            "866\n",
            "950\n",
            "626\n",
            "done\n"
          ]
        }
      ]
    }
  ]
}